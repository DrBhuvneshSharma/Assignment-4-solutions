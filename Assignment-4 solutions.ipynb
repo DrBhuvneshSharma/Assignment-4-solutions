{
 "cells": [
  {
   "cell_type": "markdown",
   "id": "3d64e456",
   "metadata": {},
   "source": [
    "Q.1. What exactly is []?\n",
    "\n",
    "Ans. [], shows a list without elements(empty list)."
   ]
  },
  {
   "cell_type": "markdown",
   "id": "90f405ea",
   "metadata": {},
   "source": [
    "Q.2. In a list of values stored in a variable called spam, how would you assign the value 'hello' as the third value? (Assume [2, 4, 6, 8, 10] are in spam.).\n"
   ]
  },
  {
   "cell_type": "code",
   "execution_count": 1,
   "id": "b3ecd74a",
   "metadata": {},
   "outputs": [
    {
     "name": "stdout",
     "output_type": "stream",
     "text": [
      "[2, 4, 'hello', 6, 8, 10]\n"
     ]
    }
   ],
   "source": [
    "spam= [2,4,6,8,10]\n",
    "spam.insert(2,\"hello\")\n",
    "print(spam)"
   ]
  },
  {
   "cell_type": "markdown",
   "id": "c604ce86",
   "metadata": {},
   "source": [
    "Let's pretend the spam includes the list ['a', 'b', 'c', 'd'] for the next three queries."
   ]
  },
  {
   "cell_type": "markdown",
   "id": "b0375524",
   "metadata": {},
   "source": [
    "Q.3. What is the value of spam[int(int('3' * 2) / 11)]?"
   ]
  },
  {
   "cell_type": "code",
   "execution_count": 14,
   "id": "1e5b3c73",
   "metadata": {},
   "outputs": [
    {
     "name": "stdout",
     "output_type": "stream",
     "text": [
      "d\n"
     ]
    }
   ],
   "source": [
    "spam = ['a','b','c','d']\n",
    "print(spam[int(int('3'*2)/11)])\n",
    "\n",
    "# 3 is written as string so will be written as 33 then casted as int before division by 11. ans will be in float 3.0\n",
    "#this gives as 3 and then casted again  as int.,it is inside a [], so, it will become spam[3], which is expression for index."
   ]
  },
  {
   "cell_type": "markdown",
   "id": "5ae5c66d",
   "metadata": {},
   "source": [
    "Q.4. What is the value of spam[-1]?"
   ]
  },
  {
   "cell_type": "code",
   "execution_count": 9,
   "id": "16a554fb",
   "metadata": {},
   "outputs": [
    {
     "data": {
      "text/plain": [
       "'d'"
      ]
     },
     "execution_count": 9,
     "metadata": {},
     "output_type": "execute_result"
    }
   ],
   "source": [
    "#Ans.\n",
    "spam[-1]\n",
    "#-1 means it is asking about the index starting from the last. "
   ]
  },
  {
   "cell_type": "markdown",
   "id": "4a47bf5e",
   "metadata": {},
   "source": [
    "Q.5. What is the value of spam[:2]?"
   ]
  },
  {
   "cell_type": "code",
   "execution_count": 12,
   "id": "f64b07ab",
   "metadata": {},
   "outputs": [
    {
     "data": {
      "text/plain": [
       "['a', 'b']"
      ]
     },
     "execution_count": 12,
     "metadata": {},
     "output_type": "execute_result"
    }
   ],
   "source": [
    "#Ans.\n",
    "spam[:2]\n",
    "#which means index of spam 0 to 2, excluding index 2 or spam[0:2]"
   ]
  },
  {
   "cell_type": "code",
   "execution_count": 16,
   "id": "7f4a0c3a",
   "metadata": {},
   "outputs": [
    {
     "data": {
      "text/plain": [
       "1"
      ]
     },
     "execution_count": 16,
     "metadata": {},
     "output_type": "execute_result"
    }
   ],
   "source": [
    "#Q.6. What is the value of bacon.index('cat')?\n",
    "bacon=[3.14, 'cat',11, 'cat', True]\n",
    "bacon.index('cat')"
   ]
  },
  {
   "cell_type": "markdown",
   "id": "a843036a",
   "metadata": {},
   "source": [
    "Ans. bacon.index('cat') will give 1. so, index of 'cat' is 1"
   ]
  },
  {
   "cell_type": "markdown",
   "id": "7a82b54f",
   "metadata": {},
   "source": [
    "Q.7.How does bacon.append(99) change the look of the list value in bacon?\n",
    "\n",
    "Ans. it will add 99 in the end to the bacon list."
   ]
  },
  {
   "cell_type": "code",
   "execution_count": 17,
   "id": "2fe6c73a",
   "metadata": {},
   "outputs": [],
   "source": [
    "bacon.append(99)"
   ]
  },
  {
   "cell_type": "code",
   "execution_count": 18,
   "id": "ad0e3778",
   "metadata": {},
   "outputs": [
    {
     "data": {
      "text/plain": [
       "[3.14, 'cat', 11, 'cat', True, 99]"
      ]
     },
     "execution_count": 18,
     "metadata": {},
     "output_type": "execute_result"
    }
   ],
   "source": [
    "bacon"
   ]
  },
  {
   "cell_type": "markdown",
   "id": "59f571a5",
   "metadata": {},
   "source": [
    "Q.8. How does bacon.remove('cat') change the look of the list in bacon?\n",
    "\n",
    "Ans. It will remove 'cat' which comes first in the list from the bacon list."
   ]
  },
  {
   "cell_type": "code",
   "execution_count": 21,
   "id": "b825338c",
   "metadata": {},
   "outputs": [
    {
     "name": "stdout",
     "output_type": "stream",
     "text": [
      "[3.14, 11, 'cat', True]\n"
     ]
    }
   ],
   "source": [
    "bacon = [3.14, 'cat', 11, 'cat', True] \n",
    "bacon.remove('cat')\n",
    "print(bacon)"
   ]
  },
  {
   "cell_type": "markdown",
   "id": "2ec00887",
   "metadata": {},
   "source": [
    "Q.9.What are the list concatenation and list replication operators?"
   ]
  },
  {
   "cell_type": "code",
   "execution_count": 23,
   "id": "d489ca2a",
   "metadata": {},
   "outputs": [
    {
     "name": "stdout",
     "output_type": "stream",
     "text": [
      "[1, 2, 3, 4, 5, 6, 78, 3, 9]\n"
     ]
    }
   ],
   "source": [
    "#Ans. '+' is the list concatenation operator and '*' is the list replication operator\n",
    "l2= [1,2,3,4]\n",
    "l3=[5,6,78,3,9]\n",
    "print(l2+l3)"
   ]
  },
  {
   "cell_type": "code",
   "execution_count": 28,
   "id": "9dde3d41",
   "metadata": {},
   "outputs": [
    {
     "name": "stdout",
     "output_type": "stream",
     "text": [
      "[1, 2, 3, 4, 1, 2, 3, 4]\n"
     ]
    }
   ],
   "source": [
    "#let's say we need to replicate the l2 two times the:\n",
    "print(l2*2)"
   ]
  },
  {
   "cell_type": "markdown",
   "id": "8dd0c51c",
   "metadata": {},
   "source": [
    "Q.10. What is difference between the list methods append() and insert()?\n",
    "\n",
    "Ans. append() will add the item in the end of the list whereas insert() will insert the item at required index position"
   ]
  },
  {
   "cell_type": "code",
   "execution_count": 29,
   "id": "9e4c05c4",
   "metadata": {},
   "outputs": [
    {
     "data": {
      "text/plain": [
       "[1, 2, 3, 4]"
      ]
     },
     "execution_count": 29,
     "metadata": {},
     "output_type": "execute_result"
    }
   ],
   "source": [
    "l2"
   ]
  },
  {
   "cell_type": "code",
   "execution_count": 30,
   "id": "edcb9e88",
   "metadata": {},
   "outputs": [],
   "source": [
    "l2.append(5)"
   ]
  },
  {
   "cell_type": "code",
   "execution_count": 31,
   "id": "f74d15bc",
   "metadata": {},
   "outputs": [
    {
     "data": {
      "text/plain": [
       "[1, 2, 3, 4, 5]"
      ]
     },
     "execution_count": 31,
     "metadata": {},
     "output_type": "execute_result"
    }
   ],
   "source": [
    "l2"
   ]
  },
  {
   "cell_type": "code",
   "execution_count": 32,
   "id": "e0359458",
   "metadata": {},
   "outputs": [
    {
     "data": {
      "text/plain": [
       "[5, 6, 78, 3, 9]"
      ]
     },
     "execution_count": 32,
     "metadata": {},
     "output_type": "execute_result"
    }
   ],
   "source": [
    "l3"
   ]
  },
  {
   "cell_type": "code",
   "execution_count": 33,
   "id": "962201be",
   "metadata": {},
   "outputs": [],
   "source": [
    "l3.insert(2,'bhuvi')"
   ]
  },
  {
   "cell_type": "code",
   "execution_count": 34,
   "id": "bcdf0e90",
   "metadata": {},
   "outputs": [
    {
     "data": {
      "text/plain": [
       "[5, 6, 'bhuvi', 78, 3, 9]"
      ]
     },
     "execution_count": 34,
     "metadata": {},
     "output_type": "execute_result"
    }
   ],
   "source": [
    "l3"
   ]
  },
  {
   "cell_type": "markdown",
   "id": "97509802",
   "metadata": {},
   "source": [
    "Q.11. What are the two methods for removing items from a list?\n",
    "\n",
    "Ans. items can be removed from a list by using remove() and del. remove() removes from list by item wheras del removes by index of the item."
   ]
  },
  {
   "cell_type": "code",
   "execution_count": 35,
   "id": "f0e34394",
   "metadata": {},
   "outputs": [
    {
     "data": {
      "text/plain": [
       "[1, 2, 3, 4, 5]"
      ]
     },
     "execution_count": 35,
     "metadata": {},
     "output_type": "execute_result"
    }
   ],
   "source": [
    "l2"
   ]
  },
  {
   "cell_type": "code",
   "execution_count": 36,
   "id": "273904e2",
   "metadata": {},
   "outputs": [],
   "source": [
    "l2.remove(2)"
   ]
  },
  {
   "cell_type": "code",
   "execution_count": 37,
   "id": "4a09a8d4",
   "metadata": {},
   "outputs": [
    {
     "data": {
      "text/plain": [
       "[1, 3, 4, 5]"
      ]
     },
     "execution_count": 37,
     "metadata": {},
     "output_type": "execute_result"
    }
   ],
   "source": [
    "l2"
   ]
  },
  {
   "cell_type": "code",
   "execution_count": 39,
   "id": "aaa98935",
   "metadata": {},
   "outputs": [],
   "source": [
    "del l2[3]"
   ]
  },
  {
   "cell_type": "code",
   "execution_count": 40,
   "id": "6004b1b8",
   "metadata": {},
   "outputs": [
    {
     "data": {
      "text/plain": [
       "[1, 3, 4]"
      ]
     },
     "execution_count": 40,
     "metadata": {},
     "output_type": "execute_result"
    }
   ],
   "source": [
    "l2"
   ]
  },
  {
   "cell_type": "markdown",
   "id": "cd50bbea",
   "metadata": {},
   "source": [
    "Q.12. Describe how list values and string values are identical.\n",
    "\n",
    "Ans. Both lists and strings can be passed to len(), have indexes and slices, be used in for loops, be concatenated or replicated, and be used with the in and not in operators."
   ]
  },
  {
   "cell_type": "markdown",
   "id": "dc795bb3",
   "metadata": {},
   "source": [
    "Q.13. What's the difference between tuples and lists?\n",
    "\n",
    "Ans. the basic difference is tuples are immutable whereas lists are mutable. lists are placed in [], tuple are placed in()\n",
    "\n",
    "Immutability: where values can not be changed."
   ]
  },
  {
   "cell_type": "code",
   "execution_count": 43,
   "id": "5cddc740",
   "metadata": {},
   "outputs": [
    {
     "ename": "TypeError",
     "evalue": "can only concatenate tuple (not \"int\") to tuple",
     "output_type": "error",
     "traceback": [
      "\u001b[1;31m---------------------------------------------------------------------------\u001b[0m",
      "\u001b[1;31mTypeError\u001b[0m                                 Traceback (most recent call last)",
      "\u001b[1;32m~\\AppData\\Local\\Temp/ipykernel_4212/801744302.py\u001b[0m in \u001b[0;36m<module>\u001b[1;34m\u001b[0m\n\u001b[0;32m      1\u001b[0m \u001b[0mt1\u001b[0m\u001b[1;33m=\u001b[0m\u001b[1;33m(\u001b[0m\u001b[1;36m4\u001b[0m\u001b[1;33m,\u001b[0m\u001b[1;36m2\u001b[0m\u001b[1;33m,\u001b[0m\u001b[1;36m5\u001b[0m\u001b[1;33m,\u001b[0m\u001b[1;36m7\u001b[0m\u001b[1;33m)\u001b[0m\u001b[1;33m\u001b[0m\u001b[1;33m\u001b[0m\u001b[0m\n\u001b[1;32m----> 2\u001b[1;33m \u001b[0mprint\u001b[0m\u001b[1;33m(\u001b[0m\u001b[0mt1\u001b[0m\u001b[1;33m+\u001b[0m\u001b[1;36m6\u001b[0m\u001b[1;33m)\u001b[0m\u001b[1;33m\u001b[0m\u001b[1;33m\u001b[0m\u001b[0m\n\u001b[0m",
      "\u001b[1;31mTypeError\u001b[0m: can only concatenate tuple (not \"int\") to tuple"
     ]
    }
   ],
   "source": [
    "t1=(4,2,5,7)\n",
    "print(t1+6)\n"
   ]
  },
  {
   "cell_type": "markdown",
   "id": "94a6fea6",
   "metadata": {},
   "source": [
    "Q.14. How do you type a tuple value that only contains the integer 42?\n",
    "\n",
    "Ans. When there is only single itenger, a ',' is required in the end otherwise it will remain integer."
   ]
  },
  {
   "cell_type": "code",
   "execution_count": 47,
   "id": "e534128f",
   "metadata": {},
   "outputs": [
    {
     "name": "stdout",
     "output_type": "stream",
     "text": [
      "42\n"
     ]
    }
   ],
   "source": [
    "t=(42)\n",
    "print(t)"
   ]
  },
  {
   "cell_type": "code",
   "execution_count": 46,
   "id": "fbea9352",
   "metadata": {},
   "outputs": [
    {
     "name": "stdout",
     "output_type": "stream",
     "text": [
      "<class 'int'>\n"
     ]
    }
   ],
   "source": [
    "t=(42)\n",
    "print(type(t))"
   ]
  },
  {
   "cell_type": "code",
   "execution_count": 49,
   "id": "23e7aa1e",
   "metadata": {},
   "outputs": [
    {
     "name": "stdout",
     "output_type": "stream",
     "text": [
      "(42,)\n"
     ]
    }
   ],
   "source": [
    "t3=(42,)\n",
    "print(t3)\n"
   ]
  },
  {
   "cell_type": "code",
   "execution_count": 50,
   "id": "8bcf4dd0",
   "metadata": {},
   "outputs": [
    {
     "name": "stdout",
     "output_type": "stream",
     "text": [
      "<class 'tuple'>\n"
     ]
    }
   ],
   "source": [
    "print(type(t3))"
   ]
  },
  {
   "cell_type": "code",
   "execution_count": null,
   "id": "1aaceaf5",
   "metadata": {},
   "outputs": [],
   "source": [
    "Q.15. How do you get a list value's tuple form? How do you get a tuple value's list form?\n"
   ]
  },
  {
   "cell_type": "code",
   "execution_count": 52,
   "id": "829f9c36",
   "metadata": {},
   "outputs": [
    {
     "data": {
      "text/plain": [
       "[1, 3, 4]"
      ]
     },
     "execution_count": 52,
     "metadata": {},
     "output_type": "execute_result"
    }
   ],
   "source": [
    "l2"
   ]
  },
  {
   "cell_type": "code",
   "execution_count": 68,
   "id": "b8082dad",
   "metadata": {},
   "outputs": [
    {
     "name": "stdout",
     "output_type": "stream",
     "text": [
      "(3, 6, 9, 10, 55)\n"
     ]
    }
   ],
   "source": [
    "list = [3,6,9,10,55]\n",
    "\n",
    "#convert list into tuple\n",
    "t1 = tuple(list)\n",
    "\n",
    "print(t1)\n"
   ]
  },
  {
   "cell_type": "code",
   "execution_count": 64,
   "id": "95466814",
   "metadata": {},
   "outputs": [
    {
     "data": {
      "text/plain": [
       "(3, 6, 9, 10, 55)"
      ]
     },
     "execution_count": 64,
     "metadata": {},
     "output_type": "execute_result"
    }
   ],
   "source": [
    "t1"
   ]
  },
  {
   "cell_type": "code",
   "execution_count": 67,
   "id": "d555cba5",
   "metadata": {},
   "outputs": [
    {
     "name": "stdout",
     "output_type": "stream",
     "text": [
      "[3, 6, 9, 10, 55]\n"
     ]
    }
   ],
   "source": [
    "# convert tuple into list\n",
    "l1=list(t1)\n",
    "print(l1)"
   ]
  },
  {
   "cell_type": "markdown",
   "id": "897d3746",
   "metadata": {},
   "source": [
    "Q.16. Variables that \"contain\" list values are not necessarily lists themselves. Instead, what do they contain?\n",
    "\n",
    "Ans. they contain references to the list values. ex: t=([1,2,3,4], 56, 'bhuvi)"
   ]
  },
  {
   "cell_type": "markdown",
   "id": "f0a71fa2",
   "metadata": {},
   "source": [
    "Q.17. How do you distinguish between copy.copy() and copy.deepcopy()?\n",
    "\n",
    "Ans. .copy() create reference to original object. If you change copied object - you change the original object. \n",
    "\n",
    ".deepcopy() creates new object and does real copying of original object to new one. \n",
    "\n",
    "Changing new deepcopied object doesn't affect original object."
   ]
  },
  {
   "cell_type": "code",
   "execution_count": null,
   "id": "1b0728aa",
   "metadata": {},
   "outputs": [],
   "source": []
  }
 ],
 "metadata": {
  "kernelspec": {
   "display_name": "Python 3 (ipykernel)",
   "language": "python",
   "name": "python3"
  },
  "language_info": {
   "codemirror_mode": {
    "name": "ipython",
    "version": 3
   },
   "file_extension": ".py",
   "mimetype": "text/x-python",
   "name": "python",
   "nbconvert_exporter": "python",
   "pygments_lexer": "ipython3",
   "version": "3.9.7"
  }
 },
 "nbformat": 4,
 "nbformat_minor": 5
}
